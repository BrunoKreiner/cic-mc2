{
 "cells": [
  {
   "cell_type": "markdown",
   "id": "600b3cd9-511d-4c98-8af1-fbc0f40b9f60",
   "metadata": {},
   "source": [
    "### If you downloaded the zip folder with processed data, unzip with following code"
   ]
  },
  {
   "cell_type": "code",
   "execution_count": 3,
   "id": "98d1569b-3082-4f72-9246-dcb5ce855c2a",
   "metadata": {
    "execution": {
     "iopub.execute_input": "2022-06-25T21:25:59.166664Z",
     "iopub.status.busy": "2022-06-25T21:25:59.166378Z",
     "iopub.status.idle": "2022-06-25T21:26:01.972522Z",
     "shell.execute_reply": "2022-06-25T21:26:01.971926Z",
     "shell.execute_reply.started": "2022-06-25T21:25:59.166640Z"
    },
    "tags": []
   },
   "outputs": [],
   "source": [
    "import zipfile\n",
    "with zipfile.ZipFile(\"data/processed.zip\",\"r\") as zip_ref:\n",
    "    zip_ref.extractall(\"data/\")"
   ]
  },
  {
   "cell_type": "markdown",
   "id": "bd81462b-0d37-487c-b386-e79c1cece9a3",
   "metadata": {},
   "source": [
    "### Define training steps\n",
    "\n",
    "For simplicity in the cloud setup, helper functions are defined in this code block too"
   ]
  },
  {
   "cell_type": "code",
   "execution_count": 1,
   "id": "031e9031-5d23-45e7-974d-578bde15552b",
   "metadata": {
    "execution": {
     "iopub.execute_input": "2022-06-26T20:06:03.333867Z",
     "iopub.status.busy": "2022-06-26T20:06:03.333528Z",
     "iopub.status.idle": "2022-06-26T20:06:05.883677Z",
     "shell.execute_reply": "2022-06-26T20:06:05.883083Z",
     "shell.execute_reply.started": "2022-06-26T20:06:03.333803Z"
    },
    "tags": []
   },
   "outputs": [],
   "source": [
    "import sys\n",
    "sys.path.insert(0, \"/home/jovyan/examples/examples/dask-gpu-experiment/\")\n",
    "import pandas as pd\n",
    "import uuid\n",
    "import os\n",
    "import datetime\n",
    "import pickle\n",
    "import time\n",
    "import numpy as np\n",
    "os.environ['KMP_DUPLICATE_LIB_OK']='True'\n",
    "import random\n",
    "\n",
    "from torch.utils.data import DataLoader, Dataset\n",
    "import torch\n",
    "import torch.nn as nn\n",
    "import torch.optim as optim\n",
    "\n",
    "from torch.nn.parallel import DistributedDataParallel as DDP\n",
    "import torch.distributed as dist\n",
    "from torch.utils.data.distributed import DistributedSampler\n",
    "\n",
    "from dask_pytorch_ddp import dispatch, results\n",
    "from dask_saturn import SaturnCluster\n",
    "from dask.distributed import Client\n",
    "from distributed.worker import logger\n",
    "\n",
    "from sklearn.utils import shuffle\n",
    "\n",
    "import monai\n",
    "from monai.losses import FocalLoss\n",
    "import torchio as tio\n",
    "import torchio.transforms as transforms\n",
    "from monai.networks.nets.resnet import resnet10, resnet18, resnet50\n",
    "from monai.transforms import (\n",
    "    RandFlip,\n",
    "    RandRotate,\n",
    "    Rand2DElastic,\n",
    "    RandZoom,\n",
    "    NormalizeIntensity,\n",
    "    RandGaussianSmooth,\n",
    ")\n",
    "\n",
    "import json\n",
    "\n",
    "#set different logger for different uses\n",
    "def log_metric(type_, msg, logger, *arg):\n",
    "    type_ = type_.replace(\"_\", \" \")\n",
    "    logger.info(f\"{type_} is {msg} {arg}\")\n",
    "    \n",
    "    from sklearn.utils import shuffle\n",
    "\n",
    "class MRIDataset(Dataset):\n",
    "    \"\"\"\n",
    "    Implements __getitem__ method to get items for batches\n",
    "    Attributes\n",
    "    ----------\n",
    "    image_path (string): Path to the image folder\n",
    "    test_path (string: Path to where tabular data is stored\n",
    "    annotation_path (string): path to annotation where label is stored\n",
    "    transform (object, callable): Optional transform to be applied\n",
    "        on a sample.\n",
    "    labels: labels extracted from annotation_path\n",
    "    images: iterable list of paths to all images (could also be images themselves)\n",
    "    test_results: test results extracted from test_path\n",
    "    ----------\n",
    "    Methods\n",
    "    ----------\n",
    "    forward(images): takes images and does forward feed calculation\n",
    "    \"\"\"\n",
    "    def __init__(self, df, data, shuffle_ = True, transform=None):\n",
    "        \"\"\"\n",
    "        Parameters:\n",
    "            image_path (string): Path to the image folder\n",
    "            test_path (string: Path to where tabular data is stored\n",
    "            annotation_path (string): path to annotation where label is stored\n",
    "            transform (object, callable): Optional transform to be applied\n",
    "                on a sample.\n",
    "        \"\"\"\n",
    "        self.transform = transform\n",
    "        # fixme should be handled in another way. maybe in configuration file?\n",
    "        self.idx_to_label = {\n",
    "            'CN': 0,\n",
    "            'MCI': 1,\n",
    "            'AD': 2\n",
    "        }\n",
    "\n",
    "        self.df = df\n",
    "        self.data = data\n",
    "        \n",
    "        if shuffle_ == True:\n",
    "            self.df = shuffle(self.df)\n",
    "\n",
    "    def __len__(self):\n",
    "        \"\"\"\n",
    "        returns amount of images in total\n",
    "        \"\"\"\n",
    "        return len(self.df)\n",
    "\n",
    "    def __getitem__(self, idx):\n",
    "        \"\"\"\n",
    "        Parameters:\n",
    "            idx (int): index to image\n",
    "        \"\"\"\n",
    "        img = self.data[self.df.iloc[idx].filename]\n",
    "        #img = tio.ScalarImage(os.getcwd() + \"/\" + self.df.iloc[idx].filename)\n",
    "        img = img.data\n",
    "        #get image and caption by id\n",
    "        label = self.df.iloc[idx].Group\n",
    "        label = self.idx_to_label[label]\n",
    "        label = nn.functional.one_hot(torch.tensor(label), num_classes = 3).to(torch.float32)\n",
    "                \n",
    "        if self.transform is not None:\n",
    "            try:\n",
    "                img = self.transform(img)\n",
    "            except FloatingPointError:\n",
    "                print(f\"img {self.df.iloc[idx].filename} couldn't be transformed, floating point error: overflow encountered in float_scalars\")\n",
    "\n",
    "        img = img[0]\n",
    "        return {\"images\": img, \"labels\": label } #, test_results\n",
    "    \n",
    "    def permute(self):\n",
    "        self.permutation = torch.randperm(len(self.df))\n",
    "\n",
    "def train(train_data, test_data):\n",
    "    model = resnet50(spatial_dims=2, n_input_channels =1, num_classes =3)\n",
    "\n",
    "    class_names = ['CN', 'MCI', 'AD']\n",
    "    EPOCHS = 3\n",
    "    WEIGHT_DECAY: 0.15\n",
    "    LEARNING_RATE = 0.001\n",
    "    BATCH_SIZE = 8\n",
    "    \n",
    "    #---------------------------------\n",
    "    \n",
    "    train_transform = transforms.Compose(\n",
    "        [\n",
    "            RandGaussianSmooth(prob=0.5),\n",
    "            RandRotate(prob=0.5),\n",
    "            RandFlip(prob=0.4),\n",
    "        ]\n",
    "    )\n",
    "\n",
    "    train_dataset = MRIDataset(train_data, data, transform=train_transform)\n",
    "    #test_dataset = MRIDataset(test_data, data, transform=None)\n",
    "    \n",
    "    # the distributed sampler makes it so the samples are distributed across the different workers\n",
    "    sampler1 = DistributedSampler(train_dataset)\n",
    "    #sampler2 = DistributedSampler(test_dataset)\n",
    "    \n",
    "    worker_rank = int(dist.get_rank())\n",
    "    device = torch.device(0)\n",
    "\n",
    "    logger.info(f\"Worker {worker_rank} - beginning\")\n",
    "    print(worker_rank)\n",
    "\n",
    "    model = model.to(device)\n",
    "    model = DDP(model)\n",
    "\n",
    "    test_transform = None\n",
    "\n",
    "    train_dataloader = DataLoader(train_dataset, batch_size=BATCH_SIZE, sampler = sampler1)\n",
    "    #test_dataloader = DataLoader(test_dataset, batch_size=BATCH_SIZE, sampler = sampler2)\n",
    "\n",
    "    criterion = FocalLoss()\n",
    "    optimizer = optim.AdamW(model.parameters(), lr=LEARNING_RATE, weight_decay=0.15)\n",
    "\n",
    "    train_epoch_times = []\n",
    "    test_epoch_times = []\n",
    "    \n",
    "    for epoch in range(EPOCHS):\n",
    "        \n",
    "        logger.info(\n",
    "            f\"Worker {worker_rank} - {datetime.datetime.now().isoformat()} - Beginning epoch {epoch}\"\n",
    "        )\n",
    "\n",
    "        # this ensures the data is reshuffled each epoch\n",
    "        sampler1.set_epoch(epoch)\n",
    "        train_dataset.permute()\n",
    "\n",
    "        start_epoch = time.time()\n",
    "        \n",
    "        #train------------------\n",
    "        \n",
    "        model.train()\n",
    "        train_loss = 0\n",
    "        train_total = 0\n",
    "        train_correct = 0\n",
    "\n",
    "        for batch_idx, batch in enumerate(train_dataloader):\n",
    "            data, target = batch[\"images\"].to(device), batch[\"labels\"].to(device)\n",
    "\n",
    "            optimizer.zero_grad()\n",
    "\n",
    "            output = model(data)\n",
    "\n",
    "            loss = criterion(output, target)\n",
    "\n",
    "            train_loss += loss.item()\n",
    "            scores, predictions = torch.max(output.data, 1)\n",
    "            train_total += target.size(0)\n",
    "            train_correct += int(sum(predictions == torch.argmax(target, dim=1)))\n",
    "            optimizer.zero_grad()\n",
    "\n",
    "            loss.backward()\n",
    "\n",
    "            optimizer.step()\n",
    "\n",
    "        acc = round((train_correct / train_total) * 100, 2)\n",
    "        log_metric(\"Epoch [{}], Loss: {}, Accuracy: {}\".format(epoch, train_loss / train_total, acc), \"\", logger)\n",
    "        log_metric('train_acc', acc, logger)\n",
    "        log_metric('train_loss', train_loss, logger)\n",
    "        log_metric('train_loss_ma', train_loss/train_total, logger)\n",
    "        \n",
    "        #endtrain----------------\n",
    "        \n",
    "        end_epoch = time.time()\n",
    "        elapsed = end_epoch - start_epoch\n",
    "        train_epoch_times.append(elapsed)\n",
    "        log_metric('train_epoch_time', elapsed, logger, \"s\")\n",
    "\n",
    "        start_epoch = time.time()\n",
    "        \n",
    "        #test--------------------\n",
    "        \n",
    "        \"\"\"model.eval()\n",
    "        # test model\n",
    "        test_loss = 0\n",
    "        test_total = 0\n",
    "        test_correct = 0\n",
    "\n",
    "        y_true = []\n",
    "        y_pred = []\n",
    "        y_proba = None\n",
    "\n",
    "        with torch.no_grad():\n",
    "            for batch_idx, batch in enumerate(test_dataloader):\n",
    "                inputs, labels = batch[\"images\"].to(device), batch[\"labels\"].to(device)\n",
    "\n",
    "                outputs = model(inputs)\n",
    "\n",
    "                test_loss += criterion(outputs, labels).item()\n",
    "                scores, predictions = torch.max(outputs.data, 1)\n",
    "                test_total += labels.size(0)\n",
    "                test_correct += int(sum(predictions == torch.argmax(labels, dim=1)))\n",
    "\n",
    "                outputs = outputs.cpu()\n",
    "                if y_proba is None:\n",
    "                    y_proba = outputs\n",
    "                else:\n",
    "                    y_proba = np.vstack((y_proba, outputs))\n",
    "\n",
    "                for i in labels.tolist():\n",
    "                    y_true.append(i)\n",
    "                for j in predictions.tolist():\n",
    "                    y_pred.append(j)\n",
    "\n",
    "        if return_prediction:\n",
    "            return y_true, y_pred, y_proba\n",
    "\n",
    "        acc = round((test_correct / test_total) * 100, 2)\n",
    "        log_metric(\"Test_loss: {}, Test_accuracy: {}\".format(test_loss / test_total, acc), \"\", logger)\n",
    "        log_metric('test_acc', acc, logger)\n",
    "        log_metric('test_loss', test_loss, logger)\n",
    "        log_metric('test_loss_ma', test_loss/test_total, logger)\n",
    "        \n",
    "        #endtest------------------\n",
    "        \n",
    "        end_epoch = time.time()\n",
    "        elapsed = end_epoch - start_epoch\n",
    "        test_epoch_times.append(elapsed)\n",
    "        log_metric('test_epoch_time', elapsed, logger, \"s\")\"\"\"\n",
    "        \n",
    "        # the first rh call saves a json file with the loss from the worker at the end of the epoch\n",
    "        rh.submit_result(\n",
    "            f\"logs/data_{worker_rank}_{epoch}.json\",\n",
    "            json.dumps(\n",
    "                {\n",
    "                    \"loss\": loss.item(),\n",
    "                    \"time\": datetime.datetime.now().isoformat(),\n",
    "                    \"epoch\": epoch,\n",
    "                    \"worker\": worker_rank,\n",
    "                }\n",
    "            ),\n",
    "        )\n",
    "\n",
    "        # this saves the model. We only need to do it for one worker (so we picked worker 0)\n",
    "        if worker_rank == 0:\n",
    "            rh.submit_result(\"model.pkl\", pickle.dumps(model.state_dict()))\n",
    "\n",
    "train_data = pd.read_csv('./train_labels.csv')\n",
    "test_data = pd.read_csv('./test_labels.csv')\n",
    "#y_true, _, y_proba = nn_test(net, device, test_dataloader, criterion, class_names, return_prediction=True)"
   ]
  },
  {
   "cell_type": "markdown",
   "id": "d38fce8f-2dcd-46eb-ba55-72897bb62dd7",
   "metadata": {},
   "source": [
    "### Define SaturnCluster and the DaskResultsHandler as callback"
   ]
  },
  {
   "cell_type": "code",
   "execution_count": null,
   "id": "8e318d22-980b-4ac4-8a1d-03984395d63a",
   "metadata": {
    "tags": []
   },
   "outputs": [],
   "source": [
    "cluster = SaturnCluster()\n",
    "client = Client(cluster)\n",
    "\n",
    "key = uuid.uuid4().hex\n",
    "rh = results.DaskResultsHandler(key)\n",
    "client"
   ]
  },
  {
   "cell_type": "markdown",
   "id": "c1dd7c44-e87e-4cdf-92b7-9aea8fca8ac4",
   "metadata": {},
   "source": [
    "### Send all Images to Cluster and start training"
   ]
  },
  {
   "cell_type": "code",
   "execution_count": null,
   "id": "8abf111b-2ea5-47a8-aad9-b5a5226dadd2",
   "metadata": {
    "tags": []
   },
   "outputs": [],
   "source": [
    "client.restart()\n",
    "cluster.scale(8)\n",
    "\n",
    "import dask_image.imread\n",
    "\n",
    "train_images = {}\n",
    "for i in range(len(train_data)):\n",
    "    img = tio.ScalarImage(os.getcwd() + \"/\" + train_data.iloc[i].filename).data\n",
    "    train_images[train_data.iloc[i].filename] = img\n",
    "    \n",
    "test_images = {}\n",
    "for i in range(len(test_data)):\n",
    "    img = tio.ScalarImage(os.getcwd() + \"/\" + test_data.iloc[i].filename).data\n",
    "    test_images[test_data.iloc[i].filename] = img\n",
    "    \n",
    "from sys import getsizeof\n",
    "print(\"size of all images to be distributed: \", getsizeof(images), \"Bytes\")    \n",
    "\n",
    "client.wait_for_workers(8)\n",
    "\n",
    "futures = dispatch.run(client, train, train_data = train_images, test_data = test_images)\n",
    "\n",
    "rh.process_results(\"/home/jovyan/project/training/\", futures, raise_errors=False)"
   ]
  },
  {
   "cell_type": "code",
   "execution_count": 11,
   "id": "32b8f38f-91f4-4e7c-aa38-0bb257471452",
   "metadata": {
    "execution": {
     "iopub.execute_input": "2022-06-26T18:53:16.858563Z",
     "iopub.status.busy": "2022-06-26T18:53:16.858135Z",
     "iopub.status.idle": "2022-06-26T18:53:16.865982Z",
     "shell.execute_reply": "2022-06-26T18:53:16.865270Z",
     "shell.execute_reply.started": "2022-06-26T18:53:16.858517Z"
    },
    "tags": []
   },
   "outputs": [
    {
     "data": {
      "text/plain": [
       "tensor([[[[-0.9194, -0.9194, -0.9194,  ..., -0.9194, -0.9194, -0.9194],\n",
       "          [-0.9194, -0.9194, -0.9194,  ..., -0.9194, -0.9194, -0.9194],\n",
       "          [-0.9194, -0.9194, -0.9194,  ..., -0.9194, -0.9194, -0.9194],\n",
       "          ...,\n",
       "          [-0.9194, -0.9194, -0.9194,  ..., -0.9194, -0.9194, -0.9194],\n",
       "          [-0.9194, -0.9194, -0.9194,  ..., -0.9194, -0.9194, -0.9194],\n",
       "          [-0.9194, -0.9194, -0.9194,  ..., -0.9194, -0.9194, -0.9194]]]])"
      ]
     },
     "execution_count": 11,
     "metadata": {},
     "output_type": "execute_result"
    }
   ],
   "source": [
    "images[train_data.iloc[0].filename]"
   ]
  },
  {
   "cell_type": "code",
   "execution_count": 4,
   "id": "5b56d771-d132-4f46-a7bc-ef999872dfed",
   "metadata": {
    "execution": {
     "iopub.execute_input": "2022-06-26T20:14:09.227903Z",
     "iopub.status.busy": "2022-06-26T20:14:09.227598Z",
     "iopub.status.idle": "2022-06-26T20:14:09.298919Z",
     "shell.execute_reply": "2022-06-26T20:14:09.298251Z",
     "shell.execute_reply.started": "2022-06-26T20:14:09.227877Z"
    },
    "tags": []
   },
   "outputs": [],
   "source": [
    "client.close()"
   ]
  },
  {
   "cell_type": "markdown",
   "id": "76b7e01d-c9bf-415e-a48d-e9430ee6f513",
   "metadata": {},
   "source": [
    "### Load Model:"
   ]
  },
  {
   "cell_type": "code",
   "execution_count": 5,
   "id": "799a927e-826a-4985-899c-e55070a178d4",
   "metadata": {
    "execution": {
     "iopub.execute_input": "2022-06-26T20:14:43.557880Z",
     "iopub.status.busy": "2022-06-26T20:14:43.557579Z",
     "iopub.status.idle": "2022-06-26T20:14:50.163476Z",
     "shell.execute_reply": "2022-06-26T20:14:50.162823Z",
     "shell.execute_reply.started": "2022-06-26T20:14:43.557855Z"
    },
    "tags": []
   },
   "outputs": [
    {
     "data": {
      "text/plain": [
       "<All keys matched successfully>"
      ]
     },
     "execution_count": 5,
     "metadata": {},
     "output_type": "execute_result"
    }
   ],
   "source": [
    "model_state = pickle.load(open(\"/home/jovyan/project/training/model.pkl\", \"rb\"))\n",
    "model = torch.nn.DataParallel(resnet50(spatial_dims=2, n_input_channels =1, num_classes =3)).cuda()\n",
    "model.load_state_dict(model_state)"
   ]
  },
  {
   "cell_type": "markdown",
   "id": "fa858bd4-1dc3-49e0-8be9-9724caf0a308",
   "metadata": {},
   "source": [
    "### Predict class of one image: "
   ]
  },
  {
   "cell_type": "code",
   "execution_count": 12,
   "id": "94610b54-a07a-4223-a158-689567b84166",
   "metadata": {
    "execution": {
     "iopub.execute_input": "2022-06-26T20:23:46.726307Z",
     "iopub.status.busy": "2022-06-26T20:23:46.726014Z",
     "iopub.status.idle": "2022-06-26T20:23:46.870832Z",
     "shell.execute_reply": "2022-06-26T20:23:46.870243Z",
     "shell.execute_reply.started": "2022-06-26T20:23:46.726283Z"
    },
    "tags": []
   },
   "outputs": [
    {
     "name": "stdout",
     "output_type": "stream",
     "text": [
      "Prediction:  MCI\n",
      "Actual Diagnosis:  CN\n"
     ]
    },
    {
     "data": {
      "image/png": "[encoded data removed]",
      "text/plain": [
       "<Figure size 432x288 with 1 Axes>"
      ]
     },
     "metadata": {
      "needs_background": "light"
     },
     "output_type": "display_data"
    }
   ],
   "source": [
    "import matplotlib.pyplot as plt\n",
    "\n",
    "img = images[train_data.iloc[1330].filename]\n",
    "plt.imshow(img.squeeze())\n",
    "\n",
    "out = model(img)\n",
    "\n",
    "class_names = ['CN', 'MCI', 'AD']\n",
    "prediction = class_names[torch.argmax(out).item()]\n",
    "print(\"Prediction: \", prediction)\n",
    "print(\"Actual Diagnosis: \", train_data.iloc[1330].Group)"
   ]
  }
 ],
 "metadata": {
  "kernelspec": {
   "display_name": "saturn (Python 3)",
   "language": "python",
   "name": "python3"
  },
  "language_info": {
   "codemirror_mode": {
    "name": "ipython",
    "version": 3
   },
   "file_extension": ".py",
   "mimetype": "text/x-python",
   "name": "python",
   "nbconvert_exporter": "python",
   "pygments_lexer": "ipython3",
   "version": "3.9.7"
  }
 },
 "nbformat": 4,
 "nbformat_minor": 5
}
